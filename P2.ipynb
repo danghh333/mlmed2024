{
  "nbformat": 4,
  "nbformat_minor": 0,
  "metadata": {
    "colab": {
      "provenance": [],
      "gpuType": "T4",
      "mount_file_id": "1S53NL59TF3pW1Qt7pBtgL4AHboWrqIqr",
      "authorship_tag": "ABX9TyPvDxKBHZ712oycdtVg2EqV"
    },
    "kernelspec": {
      "name": "python3",
      "display_name": "Python 3"
    },
    "language_info": {
      "name": "python"
    },
    "accelerator": "GPU"
  },
  "cells": [
    {
      "cell_type": "code",
      "execution_count": 1,
      "metadata": {
        "id": "E0VWD-m8358-"
      },
      "outputs": [],
      "source": [
        "import numpy as np\n",
        "import pandas as pd\n",
        "import os\n",
        "import matplotlib.pyplot as plt\n",
        "import cv2\n",
        "from sklearn.model_selection import train_test_split\n",
        "import glob\n",
        "from PIL import Image"
      ]
    },
    {
      "cell_type": "code",
      "source": [
        "import torch\n",
        "from torchvision import transforms, datasets, models\n",
        "from torch.utils.data.dataset import Dataset\n",
        "from torch.utils.data import Dataset, DataLoader\n",
        "from torchvision import transforms, utils\n",
        "import torch.nn as nn\n",
        "from torch import optim, cuda\n",
        "\n",
        "from timeit import default_timer as timer"
      ],
      "metadata": {
        "id": "4gQMyMtZYHlz"
      },
      "execution_count": 2,
      "outputs": []
    },
    {
      "cell_type": "code",
      "source": [
        "from google.colab import drive\n",
        "drive.mount('/content/drive')"
      ],
      "metadata": {
        "colab": {
          "base_uri": "https://localhost:8080/"
        },
        "id": "Tb30jbULOEYV",
        "outputId": "3686abcc-7871-4b63-af1e-cc1d7c6fb996"
      },
      "execution_count": 3,
      "outputs": [
        {
          "output_type": "stream",
          "name": "stdout",
          "text": [
            "Drive already mounted at /content/drive; to attempt to forcibly remount, call drive.mount(\"/content/drive\", force_remount=True).\n"
          ]
        }
      ]
    },
    {
      "cell_type": "code",
      "source": [
        "img = \"/content/drive/MyDrive/Dataset/HC18 (Medical Image)/training_set/000_HC_Annotation.png\"\n",
        "img1 = cv2.imread(img)\n",
        "print(img1.shape)"
      ],
      "metadata": {
        "colab": {
          "base_uri": "https://localhost:8080/"
        },
        "id": "THC9qm99OnSn",
        "outputId": "857f3814-d909-48ad-c697-5c2ff26faa1b"
      },
      "execution_count": 4,
      "outputs": [
        {
          "output_type": "stream",
          "name": "stdout",
          "text": [
            "(540, 800, 3)\n"
          ]
        }
      ]
    },
    {
      "cell_type": "code",
      "source": [
        "rs = cv2.resize(img1, (256, 256))\n",
        "print(rs.shape)"
      ],
      "metadata": {
        "colab": {
          "base_uri": "https://localhost:8080/"
        },
        "id": "jjoVYBdgSEL4",
        "outputId": "36a26400-ab13-4ecf-da05-45219151a194"
      },
      "execution_count": 5,
      "outputs": [
        {
          "output_type": "stream",
          "name": "stdout",
          "text": [
            "(256, 256, 3)\n"
          ]
        }
      ]
    },
    {
      "cell_type": "code",
      "source": [
        "save_file_name = 'checkpoint.pt'\n",
        "checkpoint = 'checkpoint.pth'\n",
        "earlyStop=300\n",
        "epochsNo=50\n",
        "\n",
        "train_path='/content/drive/MyDrive/Dataset/HC18 (Medical Image)/training_set'\n",
        "train_csv_path ='/content/drive/MyDrive/Dataset/HC18 (Medical Image)/csv_dir/training_set_pixel_size_and_HC.csv'\n",
        "img_size = 256\n",
        "cropped_img = 256\n",
        "batch_size = 10\n",
        "\n",
        "gpu = cuda.is_available()"
      ],
      "metadata": {
        "id": "_H0pjUciYiDQ"
      },
      "execution_count": 13,
      "outputs": []
    },
    {
      "cell_type": "code",
      "source": [
        "df = pd.read_csv(os.path.join(train_csv_path))\n",
        "\n",
        "\n",
        "df = df[['filename','pixel size(mm)','head circumference (mm)']].drop_duplicates()\n",
        "df = df[['filename','pixel size(mm)','head circumference (mm)']].copy().rename(columns={'pixel size(mm)':'pixel_size','head circumference (mm)':'HC'})\n",
        "\n",
        "# df['HC_pixels'] = df['HC'] / df['pixel_size']\n",
        "# df['normalized_HC_pixels'] = df['HC_pixels'] / 1786.500242\n",
        "df = df[df.filename.str.contains(\"_HC\")]\n",
        "\n",
        "train_df, test_val = train_test_split(df, test_size = 0.3,random_state = 2020)\n",
        "valid_df, test_df = train_test_split(test_val, test_size = 0.5,random_state = 2020)\n",
        "\n",
        "print('train', train_df.shape[0], 'validation', valid_df.shape[0],'Test',test_df.shape[0])\n",
        "# train_df = train_df.groupby(['pixel_size', 'HC']).apply(lambda x: x.sample(4, replace = True)).reset_index(drop = True)\n",
        "# print('train', train_df.shape[0], 'validation', valid_df.shape[0],'Test',test_df.shape[0])\n",
        "\n",
        "df.describe()"
      ],
      "metadata": {
        "colab": {
          "base_uri": "https://localhost:8080/",
          "height": 317
        },
        "id": "1OQgjJ4laguF",
        "outputId": "dfeb8d9b-eee9-461f-e94c-1704a1f47db1"
      },
      "execution_count": 7,
      "outputs": [
        {
          "output_type": "stream",
          "name": "stdout",
          "text": [
            "train 564 validation 121 Test 121\n"
          ]
        },
        {
          "output_type": "execute_result",
          "data": {
            "text/plain": [
              "       pixel_size          HC\n",
              "count  806.000000  806.000000\n",
              "mean     0.138848  173.971600\n",
              "std      0.051949   64.761672\n",
              "min      0.049415   44.300000\n",
              "25%      0.108393  153.925000\n",
              "50%      0.128191  174.225000\n",
              "75%      0.157101  188.797500\n",
              "max      0.393280  346.400000"
            ],
            "text/html": [
              "\n",
              "  <div id=\"df-9806982b-3caf-4331-ad39-d15f0974a468\" class=\"colab-df-container\">\n",
              "    <div>\n",
              "<style scoped>\n",
              "    .dataframe tbody tr th:only-of-type {\n",
              "        vertical-align: middle;\n",
              "    }\n",
              "\n",
              "    .dataframe tbody tr th {\n",
              "        vertical-align: top;\n",
              "    }\n",
              "\n",
              "    .dataframe thead th {\n",
              "        text-align: right;\n",
              "    }\n",
              "</style>\n",
              "<table border=\"1\" class=\"dataframe\">\n",
              "  <thead>\n",
              "    <tr style=\"text-align: right;\">\n",
              "      <th></th>\n",
              "      <th>pixel_size</th>\n",
              "      <th>HC</th>\n",
              "    </tr>\n",
              "  </thead>\n",
              "  <tbody>\n",
              "    <tr>\n",
              "      <th>count</th>\n",
              "      <td>806.000000</td>\n",
              "      <td>806.000000</td>\n",
              "    </tr>\n",
              "    <tr>\n",
              "      <th>mean</th>\n",
              "      <td>0.138848</td>\n",
              "      <td>173.971600</td>\n",
              "    </tr>\n",
              "    <tr>\n",
              "      <th>std</th>\n",
              "      <td>0.051949</td>\n",
              "      <td>64.761672</td>\n",
              "    </tr>\n",
              "    <tr>\n",
              "      <th>min</th>\n",
              "      <td>0.049415</td>\n",
              "      <td>44.300000</td>\n",
              "    </tr>\n",
              "    <tr>\n",
              "      <th>25%</th>\n",
              "      <td>0.108393</td>\n",
              "      <td>153.925000</td>\n",
              "    </tr>\n",
              "    <tr>\n",
              "      <th>50%</th>\n",
              "      <td>0.128191</td>\n",
              "      <td>174.225000</td>\n",
              "    </tr>\n",
              "    <tr>\n",
              "      <th>75%</th>\n",
              "      <td>0.157101</td>\n",
              "      <td>188.797500</td>\n",
              "    </tr>\n",
              "    <tr>\n",
              "      <th>max</th>\n",
              "      <td>0.393280</td>\n",
              "      <td>346.400000</td>\n",
              "    </tr>\n",
              "  </tbody>\n",
              "</table>\n",
              "</div>\n",
              "    <div class=\"colab-df-buttons\">\n",
              "\n",
              "  <div class=\"colab-df-container\">\n",
              "    <button class=\"colab-df-convert\" onclick=\"convertToInteractive('df-9806982b-3caf-4331-ad39-d15f0974a468')\"\n",
              "            title=\"Convert this dataframe to an interactive table.\"\n",
              "            style=\"display:none;\">\n",
              "\n",
              "  <svg xmlns=\"http://www.w3.org/2000/svg\" height=\"24px\" viewBox=\"0 -960 960 960\">\n",
              "    <path d=\"M120-120v-720h720v720H120Zm60-500h600v-160H180v160Zm220 220h160v-160H400v160Zm0 220h160v-160H400v160ZM180-400h160v-160H180v160Zm440 0h160v-160H620v160ZM180-180h160v-160H180v160Zm440 0h160v-160H620v160Z\"/>\n",
              "  </svg>\n",
              "    </button>\n",
              "\n",
              "  <style>\n",
              "    .colab-df-container {\n",
              "      display:flex;\n",
              "      gap: 12px;\n",
              "    }\n",
              "\n",
              "    .colab-df-convert {\n",
              "      background-color: #E8F0FE;\n",
              "      border: none;\n",
              "      border-radius: 50%;\n",
              "      cursor: pointer;\n",
              "      display: none;\n",
              "      fill: #1967D2;\n",
              "      height: 32px;\n",
              "      padding: 0 0 0 0;\n",
              "      width: 32px;\n",
              "    }\n",
              "\n",
              "    .colab-df-convert:hover {\n",
              "      background-color: #E2EBFA;\n",
              "      box-shadow: 0px 1px 2px rgba(60, 64, 67, 0.3), 0px 1px 3px 1px rgba(60, 64, 67, 0.15);\n",
              "      fill: #174EA6;\n",
              "    }\n",
              "\n",
              "    .colab-df-buttons div {\n",
              "      margin-bottom: 4px;\n",
              "    }\n",
              "\n",
              "    [theme=dark] .colab-df-convert {\n",
              "      background-color: #3B4455;\n",
              "      fill: #D2E3FC;\n",
              "    }\n",
              "\n",
              "    [theme=dark] .colab-df-convert:hover {\n",
              "      background-color: #434B5C;\n",
              "      box-shadow: 0px 1px 3px 1px rgba(0, 0, 0, 0.15);\n",
              "      filter: drop-shadow(0px 1px 2px rgba(0, 0, 0, 0.3));\n",
              "      fill: #FFFFFF;\n",
              "    }\n",
              "  </style>\n",
              "\n",
              "    <script>\n",
              "      const buttonEl =\n",
              "        document.querySelector('#df-9806982b-3caf-4331-ad39-d15f0974a468 button.colab-df-convert');\n",
              "      buttonEl.style.display =\n",
              "        google.colab.kernel.accessAllowed ? 'block' : 'none';\n",
              "\n",
              "      async function convertToInteractive(key) {\n",
              "        const element = document.querySelector('#df-9806982b-3caf-4331-ad39-d15f0974a468');\n",
              "        const dataTable =\n",
              "          await google.colab.kernel.invokeFunction('convertToInteractive',\n",
              "                                                    [key], {});\n",
              "        if (!dataTable) return;\n",
              "\n",
              "        const docLinkHtml = 'Like what you see? Visit the ' +\n",
              "          '<a target=\"_blank\" href=https://colab.research.google.com/notebooks/data_table.ipynb>data table notebook</a>'\n",
              "          + ' to learn more about interactive tables.';\n",
              "        element.innerHTML = '';\n",
              "        dataTable['output_type'] = 'display_data';\n",
              "        await google.colab.output.renderOutput(dataTable, element);\n",
              "        const docLink = document.createElement('div');\n",
              "        docLink.innerHTML = docLinkHtml;\n",
              "        element.appendChild(docLink);\n",
              "      }\n",
              "    </script>\n",
              "  </div>\n",
              "\n",
              "\n",
              "<div id=\"df-28231e90-acbd-4367-bce3-cb732fcf2307\">\n",
              "  <button class=\"colab-df-quickchart\" onclick=\"quickchart('df-28231e90-acbd-4367-bce3-cb732fcf2307')\"\n",
              "            title=\"Suggest charts\"\n",
              "            style=\"display:none;\">\n",
              "\n",
              "<svg xmlns=\"http://www.w3.org/2000/svg\" height=\"24px\"viewBox=\"0 0 24 24\"\n",
              "     width=\"24px\">\n",
              "    <g>\n",
              "        <path d=\"M19 3H5c-1.1 0-2 .9-2 2v14c0 1.1.9 2 2 2h14c1.1 0 2-.9 2-2V5c0-1.1-.9-2-2-2zM9 17H7v-7h2v7zm4 0h-2V7h2v10zm4 0h-2v-4h2v4z\"/>\n",
              "    </g>\n",
              "</svg>\n",
              "  </button>\n",
              "\n",
              "<style>\n",
              "  .colab-df-quickchart {\n",
              "      --bg-color: #E8F0FE;\n",
              "      --fill-color: #1967D2;\n",
              "      --hover-bg-color: #E2EBFA;\n",
              "      --hover-fill-color: #174EA6;\n",
              "      --disabled-fill-color: #AAA;\n",
              "      --disabled-bg-color: #DDD;\n",
              "  }\n",
              "\n",
              "  [theme=dark] .colab-df-quickchart {\n",
              "      --bg-color: #3B4455;\n",
              "      --fill-color: #D2E3FC;\n",
              "      --hover-bg-color: #434B5C;\n",
              "      --hover-fill-color: #FFFFFF;\n",
              "      --disabled-bg-color: #3B4455;\n",
              "      --disabled-fill-color: #666;\n",
              "  }\n",
              "\n",
              "  .colab-df-quickchart {\n",
              "    background-color: var(--bg-color);\n",
              "    border: none;\n",
              "    border-radius: 50%;\n",
              "    cursor: pointer;\n",
              "    display: none;\n",
              "    fill: var(--fill-color);\n",
              "    height: 32px;\n",
              "    padding: 0;\n",
              "    width: 32px;\n",
              "  }\n",
              "\n",
              "  .colab-df-quickchart:hover {\n",
              "    background-color: var(--hover-bg-color);\n",
              "    box-shadow: 0 1px 2px rgba(60, 64, 67, 0.3), 0 1px 3px 1px rgba(60, 64, 67, 0.15);\n",
              "    fill: var(--button-hover-fill-color);\n",
              "  }\n",
              "\n",
              "  .colab-df-quickchart-complete:disabled,\n",
              "  .colab-df-quickchart-complete:disabled:hover {\n",
              "    background-color: var(--disabled-bg-color);\n",
              "    fill: var(--disabled-fill-color);\n",
              "    box-shadow: none;\n",
              "  }\n",
              "\n",
              "  .colab-df-spinner {\n",
              "    border: 2px solid var(--fill-color);\n",
              "    border-color: transparent;\n",
              "    border-bottom-color: var(--fill-color);\n",
              "    animation:\n",
              "      spin 1s steps(1) infinite;\n",
              "  }\n",
              "\n",
              "  @keyframes spin {\n",
              "    0% {\n",
              "      border-color: transparent;\n",
              "      border-bottom-color: var(--fill-color);\n",
              "      border-left-color: var(--fill-color);\n",
              "    }\n",
              "    20% {\n",
              "      border-color: transparent;\n",
              "      border-left-color: var(--fill-color);\n",
              "      border-top-color: var(--fill-color);\n",
              "    }\n",
              "    30% {\n",
              "      border-color: transparent;\n",
              "      border-left-color: var(--fill-color);\n",
              "      border-top-color: var(--fill-color);\n",
              "      border-right-color: var(--fill-color);\n",
              "    }\n",
              "    40% {\n",
              "      border-color: transparent;\n",
              "      border-right-color: var(--fill-color);\n",
              "      border-top-color: var(--fill-color);\n",
              "    }\n",
              "    60% {\n",
              "      border-color: transparent;\n",
              "      border-right-color: var(--fill-color);\n",
              "    }\n",
              "    80% {\n",
              "      border-color: transparent;\n",
              "      border-right-color: var(--fill-color);\n",
              "      border-bottom-color: var(--fill-color);\n",
              "    }\n",
              "    90% {\n",
              "      border-color: transparent;\n",
              "      border-bottom-color: var(--fill-color);\n",
              "    }\n",
              "  }\n",
              "</style>\n",
              "\n",
              "  <script>\n",
              "    async function quickchart(key) {\n",
              "      const quickchartButtonEl =\n",
              "        document.querySelector('#' + key + ' button');\n",
              "      quickchartButtonEl.disabled = true;  // To prevent multiple clicks.\n",
              "      quickchartButtonEl.classList.add('colab-df-spinner');\n",
              "      try {\n",
              "        const charts = await google.colab.kernel.invokeFunction(\n",
              "            'suggestCharts', [key], {});\n",
              "      } catch (error) {\n",
              "        console.error('Error during call to suggestCharts:', error);\n",
              "      }\n",
              "      quickchartButtonEl.classList.remove('colab-df-spinner');\n",
              "      quickchartButtonEl.classList.add('colab-df-quickchart-complete');\n",
              "    }\n",
              "    (() => {\n",
              "      let quickchartButtonEl =\n",
              "        document.querySelector('#df-28231e90-acbd-4367-bce3-cb732fcf2307 button');\n",
              "      quickchartButtonEl.style.display =\n",
              "        google.colab.kernel.accessAllowed ? 'block' : 'none';\n",
              "    })();\n",
              "  </script>\n",
              "</div>\n",
              "\n",
              "    </div>\n",
              "  </div>\n"
            ],
            "application/vnd.google.colaboratory.intrinsic+json": {
              "type": "dataframe",
              "summary": "{\n  \"name\": \"df\",\n  \"rows\": 8,\n  \"fields\": [\n    {\n      \"column\": \"pixel_size\",\n      \"properties\": {\n        \"dtype\": \"number\",\n        \"std\": 284.9121728649491,\n        \"min\": 0.04941494158,\n        \"max\": 806.0,\n        \"num_unique_values\": 8,\n        \"samples\": [\n          0.13884831916026377,\n          0.128190842194,\n          806.0\n        ],\n        \"semantic_type\": \"\",\n        \"description\": \"\"\n      }\n    },\n    {\n      \"column\": \"HC\",\n      \"properties\": {\n        \"dtype\": \"number\",\n        \"std\": 244.73588064896308,\n        \"min\": 44.3,\n        \"max\": 806.0,\n        \"num_unique_values\": 8,\n        \"samples\": [\n          173.9716004962779,\n          174.225,\n          806.0\n        ],\n        \"semantic_type\": \"\",\n        \"description\": \"\"\n      }\n    }\n  ]\n}"
            }
          },
          "metadata": {},
          "execution_count": 7
        }
      ]
    },
    {
      "cell_type": "code",
      "source": [
        "train_df.to_csv(\"/content/drive/MyDrive/Dataset/HC18 (Medical Image)/csv_dir/train_file.csv\", index=False, encoding='utf8')\n",
        "valid_df.to_csv(\"/content/drive/MyDrive/Dataset/HC18 (Medical Image)/csv_dir/val_file.csv\", index=False, encoding='utf8')\n",
        "test_df.to_csv(\"/content/drive/MyDrive/Dataset/HC18 (Medical Image)/csv_dir/test_file.csv\", index=False, encoding='utf8')"
      ],
      "metadata": {
        "id": "JFxAu_YYcfB2"
      },
      "execution_count": 8,
      "outputs": []
    },
    {
      "cell_type": "code",
      "source": [
        "class HC_18(Dataset):\n",
        "    def __init__(self, csv_path, train_path, transform=None):\n",
        "        self.df = pd.read_csv(csv_path)\n",
        "        self.train_path = train_path\n",
        "        self.transform = transform\n",
        "\n",
        "    def __len__(self):\n",
        "        return len(self.df)\n",
        "\n",
        "    def __getitem__(self, idx):\n",
        "        if torch.is_tensor(idx):\n",
        "            idx = idx.tolist()\n",
        "\n",
        "        img_name = os.path.join(self.train_path,self.df.iloc[idx, 0])\n",
        "        image = Image.open(img_name)\n",
        "        features = self.df.loc[idx,'HC']\n",
        "\n",
        "        if self.transform:\n",
        "            image = self.transform(image)\n",
        "        return image , torch.tensor(features / 346.4)"
      ],
      "metadata": {
        "id": "ovxnw0jkda2k"
      },
      "execution_count": 9,
      "outputs": []
    },
    {
      "cell_type": "code",
      "source": [
        "#Image Transformation\n",
        "\n",
        "image_transforms = {\n",
        "    'train':\n",
        "        transforms.Compose([\n",
        "            transforms.Grayscale(num_output_channels=3),\n",
        "            transforms.Resize(size=img_size),\n",
        "            transforms.RandomRotation(degrees=10),\n",
        "            transforms.GaussianBlur(5),\n",
        "            transforms.RandomHorizontalFlip(),\n",
        "            transforms.CenterCrop(size=cropped_img),\n",
        "            transforms.ToTensor(),\n",
        "            transforms.Normalize([0.485, 0.456, 0.406], [0.229, 0.224, 0.225])\n",
        "        ]),\n",
        "\n",
        "    'val':\n",
        "        transforms.Compose([\n",
        "            transforms.Grayscale(num_output_channels=3),\n",
        "            transforms.Resize(size=img_size),\n",
        "            transforms.GaussianBlur(5),\n",
        "            transforms.CenterCrop(size=cropped_img),\n",
        "            transforms.ToTensor(),\n",
        "            transforms.Normalize([0.485, 0.456, 0.406], [0.229, 0.224, 0.225])\n",
        "        ]),\n",
        "\n",
        "    'test':\n",
        "        transforms.Compose([\n",
        "            transforms.Grayscale(num_output_channels=3),\n",
        "            transforms.Resize(size=img_size),\n",
        "            transforms.GaussianBlur(5),\n",
        "            transforms.CenterCrop(size=cropped_img),\n",
        "            transforms.ToTensor(),\n",
        "            transforms.Normalize([0.485, 0.456, 0.406], [0.229, 0.224, 0.225])\n",
        "        ])}"
      ],
      "metadata": {
        "id": "AyzVbuw5foA4"
      },
      "execution_count": 14,
      "outputs": []
    },
    {
      "cell_type": "code",
      "source": [
        "#Dataloader\n",
        "train_filename='/content/drive/MyDrive/Dataset/HC18 (Medical Image)/csv_dir/train_file.csv'\n",
        "val_filename='/content/drive/MyDrive/Dataset/HC18 (Medical Image)/csv_dir/val_file.csv'\n",
        "test_filename='/content/drive/MyDrive/Dataset/HC18 (Medical Image)/csv_dir/test_file.csv'\n",
        "\n",
        "data = {'train': HC_18(train_filename , train_path =  train_path ,transform = image_transforms['train']),\n",
        "        'val': HC_18(val_filename , train_path =  train_path ,transform = image_transforms['val']),\n",
        "        'test': HC_18(test_filename , train_path = train_path ,transform = image_transforms['test'])\n",
        "       }\n",
        "dataloaders ={\n",
        "    'train': DataLoader(data['train'], batch_size=batch_size,shuffle=True),\n",
        "    'val': DataLoader(data['val'], batch_size=batch_size,shuffle=False),\n",
        "    'test': DataLoader(data['test'], batch_size=len(test_df),shuffle=False)\n",
        "}"
      ],
      "metadata": {
        "id": "H3yDXXV_f_bB"
      },
      "execution_count": 15,
      "outputs": []
    },
    {
      "cell_type": "code",
      "source": [
        "!pip install efficientnet_pytorch"
      ],
      "metadata": {
        "colab": {
          "base_uri": "https://localhost:8080/"
        },
        "id": "isSmAwpSl6ks",
        "outputId": "64edc192-340b-4ba8-8292-88dacf8f1ae4"
      },
      "execution_count": 12,
      "outputs": [
        {
          "output_type": "stream",
          "name": "stdout",
          "text": [
            "Collecting efficientnet_pytorch\n",
            "  Downloading efficientnet_pytorch-0.7.1.tar.gz (21 kB)\n",
            "  Preparing metadata (setup.py) ... \u001b[?25l\u001b[?25hdone\n",
            "Requirement already satisfied: torch in /usr/local/lib/python3.10/dist-packages (from efficientnet_pytorch) (2.2.1+cu121)\n",
            "Requirement already satisfied: filelock in /usr/local/lib/python3.10/dist-packages (from torch->efficientnet_pytorch) (3.13.1)\n",
            "Requirement already satisfied: typing-extensions>=4.8.0 in /usr/local/lib/python3.10/dist-packages (from torch->efficientnet_pytorch) (4.10.0)\n",
            "Requirement already satisfied: sympy in /usr/local/lib/python3.10/dist-packages (from torch->efficientnet_pytorch) (1.12)\n",
            "Requirement already satisfied: networkx in /usr/local/lib/python3.10/dist-packages (from torch->efficientnet_pytorch) (3.2.1)\n",
            "Requirement already satisfied: jinja2 in /usr/local/lib/python3.10/dist-packages (from torch->efficientnet_pytorch) (3.1.3)\n",
            "Requirement already satisfied: fsspec in /usr/local/lib/python3.10/dist-packages (from torch->efficientnet_pytorch) (2023.6.0)\n",
            "Collecting nvidia-cuda-nvrtc-cu12==12.1.105 (from torch->efficientnet_pytorch)\n",
            "  Downloading nvidia_cuda_nvrtc_cu12-12.1.105-py3-none-manylinux1_x86_64.whl (23.7 MB)\n",
            "\u001b[2K     \u001b[90m━━━━━━━━━━━━━━━━━━━━━━━━━━━━━━━━━━━━━━━━\u001b[0m \u001b[32m23.7/23.7 MB\u001b[0m \u001b[31m43.7 MB/s\u001b[0m eta \u001b[36m0:00:00\u001b[0m\n",
            "\u001b[?25hCollecting nvidia-cuda-runtime-cu12==12.1.105 (from torch->efficientnet_pytorch)\n",
            "  Downloading nvidia_cuda_runtime_cu12-12.1.105-py3-none-manylinux1_x86_64.whl (823 kB)\n",
            "\u001b[2K     \u001b[90m━━━━━━━━━━━━━━━━━━━━━━━━━━━━━━━━━━━━━━━━\u001b[0m \u001b[32m823.6/823.6 kB\u001b[0m \u001b[31m67.3 MB/s\u001b[0m eta \u001b[36m0:00:00\u001b[0m\n",
            "\u001b[?25hCollecting nvidia-cuda-cupti-cu12==12.1.105 (from torch->efficientnet_pytorch)\n",
            "  Downloading nvidia_cuda_cupti_cu12-12.1.105-py3-none-manylinux1_x86_64.whl (14.1 MB)\n",
            "\u001b[2K     \u001b[90m━━━━━━━━━━━━━━━━━━━━━━━━━━━━━━━━━━━━━━━━\u001b[0m \u001b[32m14.1/14.1 MB\u001b[0m \u001b[31m48.3 MB/s\u001b[0m eta \u001b[36m0:00:00\u001b[0m\n",
            "\u001b[?25hCollecting nvidia-cudnn-cu12==8.9.2.26 (from torch->efficientnet_pytorch)\n",
            "  Downloading nvidia_cudnn_cu12-8.9.2.26-py3-none-manylinux1_x86_64.whl (731.7 MB)\n",
            "\u001b[2K     \u001b[90m━━━━━━━━━━━━━━━━━━━━━━━━━━━━━━━━━━━━━━━━\u001b[0m \u001b[32m731.7/731.7 MB\u001b[0m \u001b[31m2.2 MB/s\u001b[0m eta \u001b[36m0:00:00\u001b[0m\n",
            "\u001b[?25hCollecting nvidia-cublas-cu12==12.1.3.1 (from torch->efficientnet_pytorch)\n",
            "  Downloading nvidia_cublas_cu12-12.1.3.1-py3-none-manylinux1_x86_64.whl (410.6 MB)\n",
            "\u001b[2K     \u001b[90m━━━━━━━━━━━━━━━━━━━━━━━━━━━━━━━━━━━━━━━━\u001b[0m \u001b[32m410.6/410.6 MB\u001b[0m \u001b[31m2.3 MB/s\u001b[0m eta \u001b[36m0:00:00\u001b[0m\n",
            "\u001b[?25hCollecting nvidia-cufft-cu12==11.0.2.54 (from torch->efficientnet_pytorch)\n",
            "  Downloading nvidia_cufft_cu12-11.0.2.54-py3-none-manylinux1_x86_64.whl (121.6 MB)\n",
            "\u001b[2K     \u001b[90m━━━━━━━━━━━━━━━━━━━━━━━━━━━━━━━━━━━━━━━━\u001b[0m \u001b[32m121.6/121.6 MB\u001b[0m \u001b[31m8.6 MB/s\u001b[0m eta \u001b[36m0:00:00\u001b[0m\n",
            "\u001b[?25hCollecting nvidia-curand-cu12==10.3.2.106 (from torch->efficientnet_pytorch)\n",
            "  Downloading nvidia_curand_cu12-10.3.2.106-py3-none-manylinux1_x86_64.whl (56.5 MB)\n",
            "\u001b[2K     \u001b[90m━━━━━━━━━━━━━━━━━━━━━━━━━━━━━━━━━━━━━━━━\u001b[0m \u001b[32m56.5/56.5 MB\u001b[0m \u001b[31m12.7 MB/s\u001b[0m eta \u001b[36m0:00:00\u001b[0m\n",
            "\u001b[?25hCollecting nvidia-cusolver-cu12==11.4.5.107 (from torch->efficientnet_pytorch)\n",
            "  Downloading nvidia_cusolver_cu12-11.4.5.107-py3-none-manylinux1_x86_64.whl (124.2 MB)\n",
            "\u001b[2K     \u001b[90m━━━━━━━━━━━━━━━━━━━━━━━━━━━━━━━━━━━━━━━━\u001b[0m \u001b[32m124.2/124.2 MB\u001b[0m \u001b[31m9.8 MB/s\u001b[0m eta \u001b[36m0:00:00\u001b[0m\n",
            "\u001b[?25hCollecting nvidia-cusparse-cu12==12.1.0.106 (from torch->efficientnet_pytorch)\n",
            "  Downloading nvidia_cusparse_cu12-12.1.0.106-py3-none-manylinux1_x86_64.whl (196.0 MB)\n",
            "\u001b[2K     \u001b[90m━━━━━━━━━━━━━━━━━━━━━━━━━━━━━━━━━━━━━━━━\u001b[0m \u001b[32m196.0/196.0 MB\u001b[0m \u001b[31m2.7 MB/s\u001b[0m eta \u001b[36m0:00:00\u001b[0m\n",
            "\u001b[?25hCollecting nvidia-nccl-cu12==2.19.3 (from torch->efficientnet_pytorch)\n",
            "  Downloading nvidia_nccl_cu12-2.19.3-py3-none-manylinux1_x86_64.whl (166.0 MB)\n",
            "\u001b[2K     \u001b[90m━━━━━━━━━━━━━━━━━━━━━━━━━━━━━━━━━━━━━━━━\u001b[0m \u001b[32m166.0/166.0 MB\u001b[0m \u001b[31m7.2 MB/s\u001b[0m eta \u001b[36m0:00:00\u001b[0m\n",
            "\u001b[?25hCollecting nvidia-nvtx-cu12==12.1.105 (from torch->efficientnet_pytorch)\n",
            "  Downloading nvidia_nvtx_cu12-12.1.105-py3-none-manylinux1_x86_64.whl (99 kB)\n",
            "\u001b[2K     \u001b[90m━━━━━━━━━━━━━━━━━━━━━━━━━━━━━━━━━━━━━━━━\u001b[0m \u001b[32m99.1/99.1 kB\u001b[0m \u001b[31m14.5 MB/s\u001b[0m eta \u001b[36m0:00:00\u001b[0m\n",
            "\u001b[?25hRequirement already satisfied: triton==2.2.0 in /usr/local/lib/python3.10/dist-packages (from torch->efficientnet_pytorch) (2.2.0)\n",
            "Collecting nvidia-nvjitlink-cu12 (from nvidia-cusolver-cu12==11.4.5.107->torch->efficientnet_pytorch)\n",
            "  Downloading nvidia_nvjitlink_cu12-12.4.99-py3-none-manylinux2014_x86_64.whl (21.1 MB)\n",
            "\u001b[2K     \u001b[90m━━━━━━━━━━━━━━━━━━━━━━━━━━━━━━━━━━━━━━━━\u001b[0m \u001b[32m21.1/21.1 MB\u001b[0m \u001b[31m49.8 MB/s\u001b[0m eta \u001b[36m0:00:00\u001b[0m\n",
            "\u001b[?25hRequirement already satisfied: MarkupSafe>=2.0 in /usr/local/lib/python3.10/dist-packages (from jinja2->torch->efficientnet_pytorch) (2.1.5)\n",
            "Requirement already satisfied: mpmath>=0.19 in /usr/local/lib/python3.10/dist-packages (from sympy->torch->efficientnet_pytorch) (1.3.0)\n",
            "Building wheels for collected packages: efficientnet_pytorch\n",
            "  Building wheel for efficientnet_pytorch (setup.py) ... \u001b[?25l\u001b[?25hdone\n",
            "  Created wheel for efficientnet_pytorch: filename=efficientnet_pytorch-0.7.1-py3-none-any.whl size=16429 sha256=54b4e235c9e7e4cdbd6a43271f7b51260463025505507f58ae4dd29238b54eb1\n",
            "  Stored in directory: /root/.cache/pip/wheels/03/3f/e9/911b1bc46869644912bda90a56bcf7b960f20b5187feea3baf\n",
            "Successfully built efficientnet_pytorch\n",
            "Installing collected packages: nvidia-nvtx-cu12, nvidia-nvjitlink-cu12, nvidia-nccl-cu12, nvidia-curand-cu12, nvidia-cufft-cu12, nvidia-cuda-runtime-cu12, nvidia-cuda-nvrtc-cu12, nvidia-cuda-cupti-cu12, nvidia-cublas-cu12, nvidia-cusparse-cu12, nvidia-cudnn-cu12, nvidia-cusolver-cu12, efficientnet_pytorch\n",
            "Successfully installed efficientnet_pytorch-0.7.1 nvidia-cublas-cu12-12.1.3.1 nvidia-cuda-cupti-cu12-12.1.105 nvidia-cuda-nvrtc-cu12-12.1.105 nvidia-cuda-runtime-cu12-12.1.105 nvidia-cudnn-cu12-8.9.2.26 nvidia-cufft-cu12-11.0.2.54 nvidia-curand-cu12-10.3.2.106 nvidia-cusolver-cu12-11.4.5.107 nvidia-cusparse-cu12-12.1.0.106 nvidia-nccl-cu12-2.19.3 nvidia-nvjitlink-cu12-12.4.99 nvidia-nvtx-cu12-12.1.105\n"
          ]
        }
      ]
    },
    {
      "cell_type": "code",
      "source": [
        "from efficientnet_pytorch import EfficientNet\n",
        "model = EfficientNet.from_pretrained('efficientnet-b7')\n",
        "\n",
        "n_inputs = model._fc.in_features\n",
        "model._fc = nn.Sequential(\n",
        "    nn.Linear(n_inputs, 1 , bias = True)\n",
        ")\n",
        "if gpu:\n",
        "    model = model.to('cuda')"
      ],
      "metadata": {
        "colab": {
          "base_uri": "https://localhost:8080/"
        },
        "id": "gxSGvf7zmX8A",
        "outputId": "38579edb-6258-4f31-ae19-03f4e2e023a5"
      },
      "execution_count": 17,
      "outputs": [
        {
          "output_type": "stream",
          "name": "stdout",
          "text": [
            "Loaded pretrained weights for efficientnet-b7\n"
          ]
        }
      ]
    },
    {
      "cell_type": "code",
      "source": [
        "#Training\n",
        "def train(model,criterion,optimizer,train_loader,valid_loader,save_file_name,max_epochs_stop=3,n_epochs=20,print_every=1):\n",
        "    epochs_no_improve = 0\n",
        "    valid_loss_min = np.Inf\n",
        "    valid_max_acc = 0\n",
        "    history = []\n",
        "    # Number of epochs already trained (if using loaded in model weights)\n",
        "    try:\n",
        "        print(f'Model has been trained for: {model.epochs} epochs.\\n')\n",
        "    except:\n",
        "        model.epochs = 0\n",
        "        print(f'Starting Training from Scratch...\\n')\n",
        "\n",
        "    overall_start = timer()\n",
        "\n",
        "    # Main loop\n",
        "    for epoch in range(n_epochs):\n",
        "        train_loss = 0.0\n",
        "        valid_loss = 0.0\n",
        "        model.train()\n",
        "        start = timer()\n",
        "\n",
        "    # Training loop\n",
        "        for ii, (data, target) in enumerate(train_loader):\n",
        "            # Tensors to gpu\n",
        "            if gpu:\n",
        "                data, target = data.cuda(), target.cuda()\n",
        "\n",
        "            # Clear gradients\n",
        "            optimizer.zero_grad()\n",
        "            # Predicted outputs are log probabilities\n",
        "            output = model(data)\n",
        "            # Loss and backpropagation of gradients\n",
        "            loss = criterion(output, target.float())\n",
        "            loss.backward()\n",
        "\n",
        "            # Update the parameters\n",
        "            optimizer.step()\n",
        "\n",
        "            # Track train loss by multiplying average loss by number of examples in batch\n",
        "            train_loss += loss.item() * data.size(0)\n",
        "\n",
        "            # Track training progress\n",
        "            print( f'Epoch: {epoch+1}\\t{100 * (ii + 1) / len(train_loader):.2f}% complete. {timer() - start:.2f} seconds elapsed in epoch.',end='\\r')\n",
        "\n",
        "        # After training loops ends, start validation\n",
        "        else:\n",
        "            model.epochs += 1\n",
        "\n",
        "            # Don't need to keep track of gradients\n",
        "            with torch.no_grad():\n",
        "                # Set to evaluation mode\n",
        "                model.eval()\n",
        "\n",
        "                # Validation loop\n",
        "                for data, target in valid_loader:\n",
        "                    # Tensors to gpu\n",
        "                    if gpu:\n",
        "                        data, target = data.cuda(), target.cuda()\n",
        "\n",
        "                    # Forward pass\n",
        "                    output = model(data)\n",
        "\n",
        "                    # Validation loss\n",
        "                    loss = criterion(output, target.float())\n",
        "                    # Multiply average loss times the number of examples in batch\n",
        "                    valid_loss += loss.item() * data.size(0)\n",
        "\n",
        "                # Calculate average losses\n",
        "                train_loss = train_loss / len(train_loader.dataset)\n",
        "                valid_loss = valid_loss / len(valid_loader.dataset)\n",
        "\n",
        "                history.append([train_loss, valid_loss])\n",
        "                # Print training and validation results\n",
        "                if (epoch + 1) % print_every == 0:\n",
        "                    print(f'\\nEpoch: {epoch+1} \\tTraining Loss: {train_loss:.4f} \\t\\tValidation Loss: {valid_loss:.4f}')\n",
        "\n",
        "                # Save the model if validation loss decreases\n",
        "                if valid_loss < valid_loss_min:\n",
        "                    # Save model\n",
        "                    torch.save(model.state_dict(), save_file_name)\n",
        "                    # Track improvement\n",
        "                    epochs_no_improve = 0\n",
        "                    valid_loss_min = valid_loss\n",
        "                    best_epoch = epoch\n",
        "\n",
        "                # Otherwise increment count of epochs with no improvement\n",
        "                else:\n",
        "                    epochs_no_improve += 1\n",
        "                    # Trigger early stopping\n",
        "                    if epochs_no_improve >= max_epochs_stop:\n",
        "                        print(f'\\nEarly Stopping! Total epochs: {epoch+1}. Best epoch: {best_epoch+1} with loss: {valid_loss_min:.2f}')\n",
        "                        total_time = timer() - overall_start\n",
        "                        print(f'{total_time:.2f} total seconds elapsed. {total_time / (epoch+1):.2f} seconds per epoch.')\n",
        "\n",
        "                        # Load the best state dict\n",
        "                        model.load_state_dict(torch.load(save_file_name))\n",
        "                        # Attach the optimizer\n",
        "                        model.optimizer = optimizer\n",
        "\n",
        "                        # Format history\n",
        "                        history = pd.DataFrame(history,columns=['train_loss', 'valid_loss'])\n",
        "                        return model, history\n",
        "\n",
        "    # Attach the optimizer\n",
        "    model.optimizer = optimizer\n",
        "    # Record overall time and print out stats\n",
        "    total_time = timer() - overall_start\n",
        "    print(f'\\nBest epoch: {best_epoch+1} with loss: {valid_loss_min:.2f}')\n",
        "    print(f'{total_time:.2f} total seconds elapsed. {total_time / (epoch + 1):.2f} seconds per epoch.')\n",
        "    # Format history\n",
        "    history = pd.DataFrame(history,columns=['train_loss', 'valid_loss'])\n",
        "    return model, history\n",
        "\n",
        "\n",
        "\n",
        "\n"
      ],
      "metadata": {
        "id": "DFeQt-M5tjbe"
      },
      "execution_count": 18,
      "outputs": []
    },
    {
      "cell_type": "code",
      "source": [
        "# Optimizer\n",
        "criterion=nn.MSELoss()\n",
        "optimizer = optim.Adam(model.parameters(),lr=0.0001)"
      ],
      "metadata": {
        "id": "yLzNAHV7wQg1"
      },
      "execution_count": 19,
      "outputs": []
    },
    {
      "cell_type": "code",
      "source": [
        "#Training\n",
        "model, history = train(model,criterion,optimizer,dataloaders['train'],dataloaders['val'],save_file_name=save_file_name,max_epochs_stop=earlyStop,n_epochs=epochsNo,print_every=1)\n",
        "history.to_csv(\"/content/drive/MyDrive/Dataset/HC18 (Medical Image)/csv_dir/history.csv\", index=False, encoding='utf8')"
      ],
      "metadata": {
        "colab": {
          "base_uri": "https://localhost:8080/"
        },
        "id": "P5MrCPT1wS23",
        "outputId": "8d912dd3-9490-4274-c17a-4e86eb630046"
      },
      "execution_count": 20,
      "outputs": [
        {
          "output_type": "stream",
          "name": "stdout",
          "text": [
            "Starting Training from Scratch...\n",
            "\n"
          ]
        },
        {
          "output_type": "stream",
          "name": "stderr",
          "text": [
            "/usr/local/lib/python3.10/dist-packages/torch/nn/modules/loss.py:535: UserWarning: Using a target size (torch.Size([10])) that is different to the input size (torch.Size([10, 1])). This will likely lead to incorrect results due to broadcasting. Please ensure they have the same size.\n",
            "  return F.mse_loss(input, target, reduction=self.reduction)\n"
          ]
        },
        {
          "output_type": "stream",
          "name": "stdout",
          "text": []
        },
        {
          "output_type": "stream",
          "name": "stderr",
          "text": [
            "/usr/local/lib/python3.10/dist-packages/torch/nn/modules/loss.py:535: UserWarning: Using a target size (torch.Size([4])) that is different to the input size (torch.Size([4, 1])). This will likely lead to incorrect results due to broadcasting. Please ensure they have the same size.\n",
            "  return F.mse_loss(input, target, reduction=self.reduction)\n"
          ]
        },
        {
          "output_type": "stream",
          "name": "stdout",
          "text": [
            "Epoch: 1\t100.00% complete. 248.92 seconds elapsed in epoch.\r"
          ]
        },
        {
          "output_type": "stream",
          "name": "stderr",
          "text": [
            "/usr/local/lib/python3.10/dist-packages/torch/nn/modules/loss.py:535: UserWarning: Using a target size (torch.Size([1])) that is different to the input size (torch.Size([1, 1])). This will likely lead to incorrect results due to broadcasting. Please ensure they have the same size.\n",
            "  return F.mse_loss(input, target, reduction=self.reduction)\n"
          ]
        },
        {
          "output_type": "stream",
          "name": "stdout",
          "text": [
            "\n",
            "Epoch: 1 \tTraining Loss: 0.1205 \t\tValidation Loss: 0.0982\n",
            "\n",
            "Epoch: 2 \tTraining Loss: 0.0611 \t\tValidation Loss: 0.0640\n",
            "\n",
            "Epoch: 3 \tTraining Loss: 0.0536 \t\tValidation Loss: 0.0414\n",
            "\n",
            "Epoch: 4 \tTraining Loss: 0.0502 \t\tValidation Loss: 0.0321\n",
            "\n",
            "Epoch: 5 \tTraining Loss: 0.0496 \t\tValidation Loss: 0.0321\n",
            "\n",
            "Epoch: 6 \tTraining Loss: 0.0460 \t\tValidation Loss: 0.0301\n",
            "\n",
            "Epoch: 7 \tTraining Loss: 0.0459 \t\tValidation Loss: 0.0290\n",
            "\n",
            "Epoch: 8 \tTraining Loss: 0.0458 \t\tValidation Loss: 0.0293\n",
            "\n",
            "Epoch: 9 \tTraining Loss: 0.0433 \t\tValidation Loss: 0.0297\n",
            "\n",
            "Epoch: 10 \tTraining Loss: 0.0430 \t\tValidation Loss: 0.0288\n",
            "\n",
            "Epoch: 11 \tTraining Loss: 0.0416 \t\tValidation Loss: 0.0289\n",
            "\n",
            "Epoch: 12 \tTraining Loss: 0.0427 \t\tValidation Loss: 0.0289\n",
            "\n",
            "Epoch: 13 \tTraining Loss: 0.0410 \t\tValidation Loss: 0.0283\n",
            "\n",
            "Epoch: 14 \tTraining Loss: 0.0405 \t\tValidation Loss: 0.0295\n",
            "\n",
            "Epoch: 15 \tTraining Loss: 0.0399 \t\tValidation Loss: 0.0287\n",
            "\n",
            "Epoch: 16 \tTraining Loss: 0.0398 \t\tValidation Loss: 0.0291\n",
            "\n",
            "Epoch: 17 \tTraining Loss: 0.0394 \t\tValidation Loss: 0.0283\n",
            "\n",
            "Epoch: 18 \tTraining Loss: 0.0392 \t\tValidation Loss: 0.0282\n",
            "\n",
            "Epoch: 19 \tTraining Loss: 0.0386 \t\tValidation Loss: 0.0286\n",
            "\n",
            "Epoch: 20 \tTraining Loss: 0.0375 \t\tValidation Loss: 0.0291\n",
            "\n",
            "Epoch: 21 \tTraining Loss: 0.0385 \t\tValidation Loss: 0.0288\n",
            "\n",
            "Epoch: 22 \tTraining Loss: 0.0395 \t\tValidation Loss: 0.0285\n",
            "\n",
            "Epoch: 23 \tTraining Loss: 0.0375 \t\tValidation Loss: 0.0280\n",
            "\n",
            "Epoch: 24 \tTraining Loss: 0.0370 \t\tValidation Loss: 0.0282\n",
            "\n",
            "Epoch: 25 \tTraining Loss: 0.0371 \t\tValidation Loss: 0.0280\n",
            "\n",
            "Epoch: 26 \tTraining Loss: 0.0368 \t\tValidation Loss: 0.0288\n",
            "\n",
            "Epoch: 27 \tTraining Loss: 0.0374 \t\tValidation Loss: 0.0277\n",
            "\n",
            "Epoch: 28 \tTraining Loss: 0.0369 \t\tValidation Loss: 0.0279\n",
            "\n",
            "Epoch: 29 \tTraining Loss: 0.0360 \t\tValidation Loss: 0.0279\n",
            "\n",
            "Epoch: 30 \tTraining Loss: 0.0366 \t\tValidation Loss: 0.0277\n",
            "\n",
            "Epoch: 31 \tTraining Loss: 0.0361 \t\tValidation Loss: 0.0279\n",
            "\n",
            "Epoch: 32 \tTraining Loss: 0.0360 \t\tValidation Loss: 0.0277\n",
            "\n",
            "Epoch: 33 \tTraining Loss: 0.0360 \t\tValidation Loss: 0.0278\n",
            "\n",
            "Epoch: 34 \tTraining Loss: 0.0354 \t\tValidation Loss: 0.0281\n",
            "\n",
            "Epoch: 35 \tTraining Loss: 0.0354 \t\tValidation Loss: 0.0282\n",
            "\n",
            "Epoch: 36 \tTraining Loss: 0.0356 \t\tValidation Loss: 0.0282\n",
            "\n",
            "Epoch: 37 \tTraining Loss: 0.0360 \t\tValidation Loss: 0.0275\n",
            "\n",
            "Epoch: 38 \tTraining Loss: 0.0360 \t\tValidation Loss: 0.0280\n",
            "\n",
            "Epoch: 39 \tTraining Loss: 0.0358 \t\tValidation Loss: 0.0279\n",
            "\n",
            "Epoch: 40 \tTraining Loss: 0.0358 \t\tValidation Loss: 0.0280\n",
            "\n",
            "Epoch: 41 \tTraining Loss: 0.0346 \t\tValidation Loss: 0.0281\n",
            "\n",
            "Epoch: 42 \tTraining Loss: 0.0356 \t\tValidation Loss: 0.0279\n",
            "\n",
            "Epoch: 43 \tTraining Loss: 0.0355 \t\tValidation Loss: 0.0278\n",
            "\n",
            "Epoch: 44 \tTraining Loss: 0.0353 \t\tValidation Loss: 0.0276\n",
            "\n",
            "Epoch: 45 \tTraining Loss: 0.0353 \t\tValidation Loss: 0.0277\n",
            "\n",
            "Epoch: 46 \tTraining Loss: 0.0363 \t\tValidation Loss: 0.0279\n",
            "\n",
            "Epoch: 47 \tTraining Loss: 0.0358 \t\tValidation Loss: 0.0277\n",
            "\n",
            "Epoch: 48 \tTraining Loss: 0.0364 \t\tValidation Loss: 0.0277\n",
            "\n",
            "Epoch: 49 \tTraining Loss: 0.0353 \t\tValidation Loss: 0.0280\n",
            "\n",
            "Epoch: 50 \tTraining Loss: 0.0354 \t\tValidation Loss: 0.0278\n",
            "\n",
            "Best epoch: 37 with loss: 0.03\n",
            "2845.26 total seconds elapsed. 56.91 seconds per epoch.\n"
          ]
        }
      ]
    },
    {
      "cell_type": "code",
      "source": [
        "plt.figure(figsize=(10, 8))\n",
        "for c in ['train_loss', 'valid_loss']:\n",
        "    plt.plot(history[c], label=c)\n",
        "plt.legend()\n",
        "plt.xlabel('Epoch',color='k')\n",
        "plt.ylabel('Average Negative Log Likelihood')\n",
        "plt.title('Training and Validation Losses')"
      ],
      "metadata": {
        "colab": {
          "base_uri": "https://localhost:8080/",
          "height": 735
        },
        "id": "WWNeLqSi0zAV",
        "outputId": "a1810156-c467-422e-836f-d183c1a93d0c"
      },
      "execution_count": 21,
      "outputs": [
        {
          "output_type": "execute_result",
          "data": {
            "text/plain": [
              "Text(0.5, 1.0, 'Training and Validation Losses')"
            ]
          },
          "metadata": {},
          "execution_count": 21
        },
        {
          "output_type": "display_data",
          "data": {
            "text/plain": [
              "<Figure size 1000x800 with 1 Axes>"
            ],
            "image/png": "[encoded data removed]"
          },
          "metadata": {}
        }
      ]
    },
    {
      "cell_type": "code",
      "source": [
        "def save_checkpoint(model, path):\n",
        "\n",
        "    # Basic details\n",
        "    checkpoint = {\n",
        "                'epochs': model.epochs\n",
        "                 }\n",
        "\n",
        "    # Extract the final classifier and the state dictionary\n",
        "    checkpoint['fc'] = model._fc\n",
        "    checkpoint['state_dict'] = model.state_dict()\n",
        "\n",
        "    # Add the optimizer\n",
        "    checkpoint['optimizer'] = model.optimizer\n",
        "    checkpoint['optimizer_state_dict'] = model.optimizer.state_dict()\n",
        "    # Save the data to the path\n",
        "    torch.save(checkpoint, path)"
      ],
      "metadata": {
        "id": "zVqdibbN1EYJ"
      },
      "execution_count": 22,
      "outputs": []
    },
    {
      "cell_type": "code",
      "source": [
        "save_checkpoint(model, path=checkpoint)"
      ],
      "metadata": {
        "id": "CvV-TMDF1Gow"
      },
      "execution_count": 23,
      "outputs": []
    },
    {
      "cell_type": "code",
      "source": [
        "def check_mse_on_test(model, testloader, criterion=None, device='cpu'):\n",
        "    loss = 0\n",
        "    test_loss = 0\n",
        "    std_mean = 0\n",
        "    model.eval()\n",
        "    test_dataframe = pd.read_csv(test_filename)\n",
        "    with torch.no_grad():\n",
        "        for data,target in testloader:\n",
        "            if gpu:\n",
        "                data, target = data.cuda(), target.cuda()\n",
        "            output = model(data)\n",
        "\n",
        "            test_dataframe ['predicted output'] = np.squeeze(output.cpu().numpy())\n",
        "            test_dataframe.to_csv(\"/content/drive/MyDrive/Dataset/HC18 (Medical Image)/csv_dir/test_file.csv\", index=False, encoding='utf8')\n",
        "\n",
        "            std_mean = torch.std_mean(output)\n",
        "            loss = criterion(output, target.float())\n",
        "            test_loss += loss.item() * data.size(0)\n",
        "\n",
        "    return std_mean , test_loss / len(testloader.dataset)"
      ],
      "metadata": {
        "id": "-oLgXLIgpINv"
      },
      "execution_count": 24,
      "outputs": []
    },
    {
      "cell_type": "code",
      "source": [
        "criterion = nn.L1Loss()"
      ],
      "metadata": {
        "id": "f-xijv2KpWQi"
      },
      "execution_count": 25,
      "outputs": []
    },
    {
      "cell_type": "code",
      "source": [
        "std_mean , test_loss = check_mse_on_test(model, dataloaders['test'], criterion, device='cuda')\n",
        "print('Test set MAE loss = {:.4f} '.format(test_loss))\n",
        "print('Test set standard deviation of Hc =  {:.4f} mm'.format(std_mean[0] * 346.4))\n",
        "print('Test set MAE loss of HC = {:.4f} mm'.format(test_loss * 346.4))"
      ],
      "metadata": {
        "colab": {
          "base_uri": "https://localhost:8080/"
        },
        "id": "fojsl7h3pYB_",
        "outputId": "efe1dbcb-d476-4c91-f4b1-99b93ec63542"
      },
      "execution_count": 26,
      "outputs": [
        {
          "output_type": "stream",
          "name": "stdout",
          "text": [
            "Test set MAE loss = 0.1279 \n",
            "Test set standard deviation of Hc =  3.7729 mm\n",
            "Test set MAE loss of HC = 44.3148 mm\n"
          ]
        },
        {
          "output_type": "stream",
          "name": "stderr",
          "text": [
            "/usr/local/lib/python3.10/dist-packages/torch/nn/modules/loss.py:101: UserWarning: Using a target size (torch.Size([121])) that is different to the input size (torch.Size([121, 1])). This will likely lead to incorrect results due to broadcasting. Please ensure they have the same size.\n",
            "  return F.l1_loss(input, target, reduction=self.reduction)\n"
          ]
        }
      ]
    }
  ]
}